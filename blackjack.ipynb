{
 "cells": [
  {
   "cell_type": "code",
   "execution_count": null,
   "metadata": {},
   "outputs": [
    {
     "name": "stdout",
     "output_type": "stream",
     "text": [
      "\n",
      "\n",
      "\n",
      "Welcome to blackjack. One player may play with a computer dealer.\n",
      "\n",
      "Please Enter your total amount\n",
      "500\n",
      "Please Enter your bet amount for the game\n",
      "75\n",
      "\n",
      "Player's cards are -\n",
      "\t King of Hearts\n",
      "\t Five of Diamonds\n",
      "\n",
      "Dealer's cards are -\n",
      "\t King of Diamonds\n",
      "\n",
      "Enter whether to \"Hit\" or to \"Stand\"\n",
      "hit\n",
      "Player's cards are -\n",
      "\t King of Hearts\n",
      "\t Five of Diamonds\n",
      "\t Six of Diamonds\n",
      "\n",
      "Dealer's cards are -\n",
      "\t King of Diamonds\n",
      "\n",
      "Enter whether to \"Hit\" or to \"Stand\"\n",
      "stand\n",
      "Dealer is taking hits\n",
      "\n",
      "Player's cards are -\n",
      "\t King of Hearts\n",
      "\t Five of Diamonds\n",
      "\t Six of Diamonds\n",
      "\n",
      "Player's score is 21\n",
      "\n",
      "Dealer's cards are -\n",
      "\t King of Diamonds\n",
      "\t Seven of Spades\n",
      "\n",
      "Dealer's score is 17\n",
      "\n",
      "Player has won. Player receives 75 money\n",
      "\n",
      "575 is the total chips now held by player\n",
      "\n"
     ]
    }
   ],
   "source": [
    "import blackjack"
   ]
  }
 ],
 "metadata": {
  "kernelspec": {
   "display_name": "Python 3",
   "language": "python",
   "name": "python3"
  },
  "language_info": {
   "codemirror_mode": {
    "name": "ipython",
    "version": 3
   },
   "file_extension": ".py",
   "mimetype": "text/x-python",
   "name": "python",
   "nbconvert_exporter": "python",
   "pygments_lexer": "ipython3",
   "version": "3.6.10"
  }
 },
 "nbformat": 4,
 "nbformat_minor": 4
}
